{
  "nbformat": 4,
  "nbformat_minor": 0,
  "metadata": {
    "colab": {
      "name": "캐글실습_6(8/17).ipynb",
      "provenance": [],
      "collapsed_sections": [],
      "mount_file_id": "1RjqswhTvyvxUUoYTZz_JyjvQSXTvYbs9",
      "authorship_tag": "ABX9TyPNcDcyT30QoWMTJUS6dhUC",
      "include_colab_link": true
    },
    "kernelspec": {
      "name": "python3",
      "display_name": "Python 3"
    }
  },
  "cells": [
    {
      "cell_type": "markdown",
      "metadata": {
        "id": "view-in-github",
        "colab_type": "text"
      },
      "source": [
        "<a href=\"https://colab.research.google.com/github/seoin-cho/SOLUX_summer_data/blob/master/3%2C4%EC%A3%BC%EC%B0%A8_%EC%BA%90%EA%B8%80/%EC%BA%90%EA%B8%80%EC%8B%A4%EC%8A%B5_6(8_17).ipynb\" target=\"_parent\"><img src=\"https://colab.research.google.com/assets/colab-badge.svg\" alt=\"Open In Colab\"/></a>"
      ]
    },
    {
      "cell_type": "code",
      "metadata": {
        "id": "L5kBttww0t_W",
        "colab_type": "code",
        "colab": {}
      },
      "source": [
        "import pandas as pd\n",
        "import numpy as np\n",
        "import matplotlib as mpl\n",
        "import matplotlib.pyplot as plt\n",
        "import seaborn as sns\n",
        "\n",
        "#노트북 안에 그래프를 그리기 위해\n",
        "%matplotlib inline\n",
        "\n",
        "#그래프에서 격자로 숫자 범위가 눈에 잘 띄도록 ggplot 스타일을 사용\n",
        "plt.style.use('ggplot')\n",
        "\n",
        "#그래프에서 마이너스 폰트 깨지는 문제에 대한 대처\n",
        "mpl.rcParams['axes.unicode_minus'] = False"
      ],
      "execution_count": null,
      "outputs": []
    },
    {
      "cell_type": "code",
      "metadata": {
        "id": "3oswl62p1wVe",
        "colab_type": "code",
        "colab": {
          "base_uri": "https://localhost:8080/",
          "height": 36
        },
        "outputId": "de516d38-d737-40f6-b774-f99556bb4250"
      },
      "source": [
        "train = pd.read_csv('/content/drive/My Drive/train.csv', parse_dates=['datetime'])\n",
        "train.shape"
      ],
      "execution_count": null,
      "outputs": [
        {
          "output_type": "execute_result",
          "data": {
            "text/plain": [
              "(10886, 12)"
            ]
          },
          "metadata": {
            "tags": []
          },
          "execution_count": 48
        }
      ]
    },
    {
      "cell_type": "code",
      "metadata": {
        "id": "LSxFPdt216El",
        "colab_type": "code",
        "colab": {
          "base_uri": "https://localhost:8080/",
          "height": 36
        },
        "outputId": "f3d5fb82-4745-4a2e-a940-7e31de82a74e"
      },
      "source": [
        "test = pd.read_csv('/content/drive/My Drive/test.csv', parse_dates=['datetime'])\n",
        "test.shape"
      ],
      "execution_count": null,
      "outputs": [
        {
          "output_type": "execute_result",
          "data": {
            "text/plain": [
              "(6493, 9)"
            ]
          },
          "metadata": {
            "tags": []
          },
          "execution_count": 49
        }
      ]
    },
    {
      "cell_type": "code",
      "metadata": {
        "id": "MH0P9ATA2Du-",
        "colab_type": "code",
        "colab": {
          "base_uri": "https://localhost:8080/",
          "height": 36
        },
        "outputId": "bcefa502-e6d1-4428-f8bd-0fe71bf63685"
      },
      "source": [
        "#4개의 새로운 열 생성\n",
        "train['year'] = train['datetime'].dt.year\n",
        "train['month'] = train['datetime'].dt.month\n",
        "train['hour'] = train['datetime'].dt.hour\n",
        "train['dayofweek'] = train['datetime'].dt.dayofweek\n",
        "train.shape"
      ],
      "execution_count": null,
      "outputs": [
        {
          "output_type": "execute_result",
          "data": {
            "text/plain": [
              "(10886, 16)"
            ]
          },
          "metadata": {
            "tags": []
          },
          "execution_count": 50
        }
      ]
    },
    {
      "cell_type": "code",
      "metadata": {
        "id": "KpmCyhbi2Ch6",
        "colab_type": "code",
        "colab": {
          "base_uri": "https://localhost:8080/",
          "height": 36
        },
        "outputId": "df35c3f4-8e75-49da-e010-5a2930f5cdd9"
      },
      "source": [
        "#test 또한 4개의 새로운 열 생성\n",
        "test['year'] = test['datetime'].dt.year\n",
        "test['month'] = test['datetime'].dt.month\n",
        "test['hour'] = test['datetime'].dt.hour\n",
        "test['dayofweek'] = test['datetime'].dt.dayofweek\n",
        "test.shape"
      ],
      "execution_count": null,
      "outputs": [
        {
          "output_type": "execute_result",
          "data": {
            "text/plain": [
              "(6493, 13)"
            ]
          },
          "metadata": {
            "tags": []
          },
          "execution_count": 51
        }
      ]
    },
    {
      "cell_type": "code",
      "metadata": {
        "id": "e9uI4m6J2z8c",
        "colab_type": "code",
        "colab": {}
      },
      "source": [
        "#연속형 feature와 범주형 feature\n",
        "#범주형 feature의 type을 category로 변경해준다.\n",
        "categorical_feature_names = ['season', 'holiday', 'workingday', 'weather', 'dayofweek', 'month', 'year', 'hour']"
      ],
      "execution_count": null,
      "outputs": []
    },
    {
      "cell_type": "code",
      "metadata": {
        "id": "wV9PT6v_3J2R",
        "colab_type": "code",
        "colab": {}
      },
      "source": [
        "for var in categorical_feature_names:  #category로 type 변경\n",
        "  train[var] = train[var].astype('category')  #astype함수를 이용해 type을 변경\n",
        "  test[var] = test[var].astype('category')"
      ],
      "execution_count": null,
      "outputs": []
    },
    {
      "cell_type": "code",
      "metadata": {
        "id": "j4sXgld83kdZ",
        "colab_type": "code",
        "colab": {
          "base_uri": "https://localhost:8080/",
          "height": 204
        },
        "outputId": "22935f3f-4cda-4681-f606-c5af64c9cc80"
      },
      "source": [
        "feature_names = ['season', 'weather', 'temp', 'atemp', 'humidity', 'year', 'hour', 'dayofweek', 'holiday', 'workingday']\n",
        "feature_names"
      ],
      "execution_count": null,
      "outputs": [
        {
          "output_type": "execute_result",
          "data": {
            "text/plain": [
              "['season',\n",
              " 'weather',\n",
              " 'temp',\n",
              " 'atemp',\n",
              " 'humidity',\n",
              " 'year',\n",
              " 'hour',\n",
              " 'dayofweek',\n",
              " 'holiday',\n",
              " 'workingday']"
            ]
          },
          "metadata": {
            "tags": []
          },
          "execution_count": 54
        }
      ]
    },
    {
      "cell_type": "code",
      "metadata": {
        "id": "FNJxoxlO38kP",
        "colab_type": "code",
        "colab": {
          "base_uri": "https://localhost:8080/",
          "height": 221
        },
        "outputId": "e4a68cf4-2ebd-4675-cce1-6a2e5f6a278f"
      },
      "source": [
        "#선택된 피처를 train 데이터셋에서 가져와서 x_train으로 저장\n",
        "x_train = train[feature_names]\n",
        "print(x_train.shape)\n",
        "x_train.head()"
      ],
      "execution_count": null,
      "outputs": [
        {
          "output_type": "stream",
          "text": [
            "(10886, 10)\n"
          ],
          "name": "stdout"
        },
        {
          "output_type": "execute_result",
          "data": {
            "text/html": [
              "<div>\n",
              "<style scoped>\n",
              "    .dataframe tbody tr th:only-of-type {\n",
              "        vertical-align: middle;\n",
              "    }\n",
              "\n",
              "    .dataframe tbody tr th {\n",
              "        vertical-align: top;\n",
              "    }\n",
              "\n",
              "    .dataframe thead th {\n",
              "        text-align: right;\n",
              "    }\n",
              "</style>\n",
              "<table border=\"1\" class=\"dataframe\">\n",
              "  <thead>\n",
              "    <tr style=\"text-align: right;\">\n",
              "      <th></th>\n",
              "      <th>season</th>\n",
              "      <th>weather</th>\n",
              "      <th>temp</th>\n",
              "      <th>atemp</th>\n",
              "      <th>humidity</th>\n",
              "      <th>year</th>\n",
              "      <th>hour</th>\n",
              "      <th>dayofweek</th>\n",
              "      <th>holiday</th>\n",
              "      <th>workingday</th>\n",
              "    </tr>\n",
              "  </thead>\n",
              "  <tbody>\n",
              "    <tr>\n",
              "      <th>0</th>\n",
              "      <td>1</td>\n",
              "      <td>1</td>\n",
              "      <td>9.84</td>\n",
              "      <td>14.395</td>\n",
              "      <td>81</td>\n",
              "      <td>2011</td>\n",
              "      <td>0</td>\n",
              "      <td>5</td>\n",
              "      <td>0</td>\n",
              "      <td>0</td>\n",
              "    </tr>\n",
              "    <tr>\n",
              "      <th>1</th>\n",
              "      <td>1</td>\n",
              "      <td>1</td>\n",
              "      <td>9.02</td>\n",
              "      <td>13.635</td>\n",
              "      <td>80</td>\n",
              "      <td>2011</td>\n",
              "      <td>1</td>\n",
              "      <td>5</td>\n",
              "      <td>0</td>\n",
              "      <td>0</td>\n",
              "    </tr>\n",
              "    <tr>\n",
              "      <th>2</th>\n",
              "      <td>1</td>\n",
              "      <td>1</td>\n",
              "      <td>9.02</td>\n",
              "      <td>13.635</td>\n",
              "      <td>80</td>\n",
              "      <td>2011</td>\n",
              "      <td>2</td>\n",
              "      <td>5</td>\n",
              "      <td>0</td>\n",
              "      <td>0</td>\n",
              "    </tr>\n",
              "    <tr>\n",
              "      <th>3</th>\n",
              "      <td>1</td>\n",
              "      <td>1</td>\n",
              "      <td>9.84</td>\n",
              "      <td>14.395</td>\n",
              "      <td>75</td>\n",
              "      <td>2011</td>\n",
              "      <td>3</td>\n",
              "      <td>5</td>\n",
              "      <td>0</td>\n",
              "      <td>0</td>\n",
              "    </tr>\n",
              "    <tr>\n",
              "      <th>4</th>\n",
              "      <td>1</td>\n",
              "      <td>1</td>\n",
              "      <td>9.84</td>\n",
              "      <td>14.395</td>\n",
              "      <td>75</td>\n",
              "      <td>2011</td>\n",
              "      <td>4</td>\n",
              "      <td>5</td>\n",
              "      <td>0</td>\n",
              "      <td>0</td>\n",
              "    </tr>\n",
              "  </tbody>\n",
              "</table>\n",
              "</div>"
            ],
            "text/plain": [
              "  season weather  temp   atemp  ...  hour dayofweek holiday workingday\n",
              "0      1       1  9.84  14.395  ...     0         5       0          0\n",
              "1      1       1  9.02  13.635  ...     1         5       0          0\n",
              "2      1       1  9.02  13.635  ...     2         5       0          0\n",
              "3      1       1  9.84  14.395  ...     3         5       0          0\n",
              "4      1       1  9.84  14.395  ...     4         5       0          0\n",
              "\n",
              "[5 rows x 10 columns]"
            ]
          },
          "metadata": {
            "tags": []
          },
          "execution_count": 55
        }
      ]
    },
    {
      "cell_type": "code",
      "metadata": {
        "id": "DLXl4Ypm4WLW",
        "colab_type": "code",
        "colab": {
          "base_uri": "https://localhost:8080/",
          "height": 221
        },
        "outputId": "636a695a-3d83-45f1-8344-e1b3ac9690c5"
      },
      "source": [
        "x_test = test[feature_names]\n",
        "print(x_test.shape)\n",
        "x_test.head()"
      ],
      "execution_count": null,
      "outputs": [
        {
          "output_type": "stream",
          "text": [
            "(6493, 10)\n"
          ],
          "name": "stdout"
        },
        {
          "output_type": "execute_result",
          "data": {
            "text/html": [
              "<div>\n",
              "<style scoped>\n",
              "    .dataframe tbody tr th:only-of-type {\n",
              "        vertical-align: middle;\n",
              "    }\n",
              "\n",
              "    .dataframe tbody tr th {\n",
              "        vertical-align: top;\n",
              "    }\n",
              "\n",
              "    .dataframe thead th {\n",
              "        text-align: right;\n",
              "    }\n",
              "</style>\n",
              "<table border=\"1\" class=\"dataframe\">\n",
              "  <thead>\n",
              "    <tr style=\"text-align: right;\">\n",
              "      <th></th>\n",
              "      <th>season</th>\n",
              "      <th>weather</th>\n",
              "      <th>temp</th>\n",
              "      <th>atemp</th>\n",
              "      <th>humidity</th>\n",
              "      <th>year</th>\n",
              "      <th>hour</th>\n",
              "      <th>dayofweek</th>\n",
              "      <th>holiday</th>\n",
              "      <th>workingday</th>\n",
              "    </tr>\n",
              "  </thead>\n",
              "  <tbody>\n",
              "    <tr>\n",
              "      <th>0</th>\n",
              "      <td>1</td>\n",
              "      <td>1</td>\n",
              "      <td>10.66</td>\n",
              "      <td>11.365</td>\n",
              "      <td>56</td>\n",
              "      <td>2011</td>\n",
              "      <td>0</td>\n",
              "      <td>3</td>\n",
              "      <td>0</td>\n",
              "      <td>1</td>\n",
              "    </tr>\n",
              "    <tr>\n",
              "      <th>1</th>\n",
              "      <td>1</td>\n",
              "      <td>1</td>\n",
              "      <td>10.66</td>\n",
              "      <td>13.635</td>\n",
              "      <td>56</td>\n",
              "      <td>2011</td>\n",
              "      <td>1</td>\n",
              "      <td>3</td>\n",
              "      <td>0</td>\n",
              "      <td>1</td>\n",
              "    </tr>\n",
              "    <tr>\n",
              "      <th>2</th>\n",
              "      <td>1</td>\n",
              "      <td>1</td>\n",
              "      <td>10.66</td>\n",
              "      <td>13.635</td>\n",
              "      <td>56</td>\n",
              "      <td>2011</td>\n",
              "      <td>2</td>\n",
              "      <td>3</td>\n",
              "      <td>0</td>\n",
              "      <td>1</td>\n",
              "    </tr>\n",
              "    <tr>\n",
              "      <th>3</th>\n",
              "      <td>1</td>\n",
              "      <td>1</td>\n",
              "      <td>10.66</td>\n",
              "      <td>12.880</td>\n",
              "      <td>56</td>\n",
              "      <td>2011</td>\n",
              "      <td>3</td>\n",
              "      <td>3</td>\n",
              "      <td>0</td>\n",
              "      <td>1</td>\n",
              "    </tr>\n",
              "    <tr>\n",
              "      <th>4</th>\n",
              "      <td>1</td>\n",
              "      <td>1</td>\n",
              "      <td>10.66</td>\n",
              "      <td>12.880</td>\n",
              "      <td>56</td>\n",
              "      <td>2011</td>\n",
              "      <td>4</td>\n",
              "      <td>3</td>\n",
              "      <td>0</td>\n",
              "      <td>1</td>\n",
              "    </tr>\n",
              "  </tbody>\n",
              "</table>\n",
              "</div>"
            ],
            "text/plain": [
              "  season weather   temp   atemp  ...  hour dayofweek holiday workingday\n",
              "0      1       1  10.66  11.365  ...     0         3       0          1\n",
              "1      1       1  10.66  13.635  ...     1         3       0          1\n",
              "2      1       1  10.66  13.635  ...     2         3       0          1\n",
              "3      1       1  10.66  12.880  ...     3         3       0          1\n",
              "4      1       1  10.66  12.880  ...     4         3       0          1\n",
              "\n",
              "[5 rows x 10 columns]"
            ]
          },
          "metadata": {
            "tags": []
          },
          "execution_count": 56
        }
      ]
    },
    {
      "cell_type": "code",
      "metadata": {
        "id": "4BKLP0Dd4t0f",
        "colab_type": "code",
        "colab": {
          "base_uri": "https://localhost:8080/",
          "height": 148
        },
        "outputId": "54c0cc91-81c6-4e6c-be3d-48494cf6feed"
      },
      "source": [
        "#train 데이터셋의 count 데이터를 벡터형태로 가져옴\n",
        "label_name = 'count'\n",
        "y_train = train[label_name]\n",
        "print(y_train.shape)\n",
        "y_train.head()"
      ],
      "execution_count": null,
      "outputs": [
        {
          "output_type": "stream",
          "text": [
            "(10886,)\n"
          ],
          "name": "stdout"
        },
        {
          "output_type": "execute_result",
          "data": {
            "text/plain": [
              "0    16\n",
              "1    40\n",
              "2    32\n",
              "3    13\n",
              "4     1\n",
              "Name: count, dtype: int64"
            ]
          },
          "metadata": {
            "tags": []
          },
          "execution_count": 57
        }
      ]
    },
    {
      "cell_type": "code",
      "metadata": {
        "id": "JlZ29WKk5T2G",
        "colab_type": "code",
        "colab": {}
      },
      "source": [
        "#점수 매기는 함수 생성\n",
        "from sklearn.metrics import make_scorer\n",
        "\n",
        "def rmsle(predicted_values, actual_values, convertExp=True):\n",
        "  if convertExp:\n",
        "    predicted_values = np.exp(predicted_values),\n",
        "    actual_values = np.exp(actual_values)\n",
        "  #넘파이로 배열형태를 바꿔준다.\n",
        "  predicted_values = np.array(predicted_values)\n",
        "  actual_values = np.array(actual_values)\n",
        "\n",
        "  #예측값과 실제값에 1을 더하고 로그를 씌워준다.\n",
        "  log_predict = np.log(predicted_values + 1)\n",
        "  log_actual = np.log(actual_values + 1)\n",
        "\n",
        "  #위에서 계산한 예측값에서 실제값을 빼주고 제곱을 해준다.\n",
        "  difference = log_predict - log_actual\n",
        "  difference = np.square(difference)\n",
        "\n",
        "  #평균을 낸다.\n",
        "  mean_difference = difference.mean()\n",
        "\n",
        "  #다시 루트를 씌운다.\n",
        "  score = np.sqrt(mean_difference)\n",
        "\n",
        "  return score"
      ],
      "execution_count": null,
      "outputs": []
    },
    {
      "cell_type": "code",
      "metadata": {
        "id": "pXwPtww27WSk",
        "colab_type": "code",
        "colab": {
          "base_uri": "https://localhost:8080/",
          "height": 36
        },
        "outputId": "70c264d7-e7ca-4408-ee12-391ef44fe84f"
      },
      "source": [
        "#선형회귀 모델\n",
        "from sklearn.linear_model import LinearRegression, Ridge, Lasso\n",
        "from sklearn.model_selection import GridSearchCV\n",
        "from sklearn import metrics\n",
        "import warnings\n",
        "pd.options.mode.chained_assignment = None\n",
        "warnings.filterwarnings('ignore', category=DeprecationWarning)\n",
        "\n",
        "#선형회귀 모델을 초기화\n",
        "lModel = LinearRegression()\n",
        "\n",
        "#모델을 학습시킨다.\n",
        "y_train_log = np.log1p(y_train)  #값에 1을 더하고 로그를 씌움\n",
        "lModel.fit(x_train, y_train_log)\n",
        "\n",
        "#예측하고 정확도를 평가한다.\n",
        "preds = lModel.predict(x_train)\n",
        "print('RMSLE Value For Linear Regression: ', rmsle(np.exp(y_train_log), np.exp(preds), False))"
      ],
      "execution_count": null,
      "outputs": [
        {
          "output_type": "stream",
          "text": [
            "RMSLE Value For Linear Regression:  0.9803697923313522\n"
          ],
          "name": "stdout"
        }
      ]
    },
    {
      "cell_type": "code",
      "metadata": {
        "id": "lbRnLTQp8mlS",
        "colab_type": "code",
        "colab": {
          "base_uri": "https://localhost:8080/",
          "height": 409
        },
        "outputId": "0b38d23f-6ec6-436a-db24-7b79709f6d36"
      },
      "source": [
        "#릿지 Regularization Model - Ridge\n",
        "#회귀를 위한 선형모델, 모든 피처가 주는 영향을 최소화, 오버피팅을 방지\n",
        "\n",
        "#3000번 반복실행하도록 하여 GridSearchCV를 이용해 최적의 alpha값을 찾는다.\n",
        "ridge_m_ = Ridge()\n",
        "ridge_params_ = {'max_iter':[3000], 'alpha':[0.01,0.1,1,2,3,4,10,30,100,200,300,400,800,900,1000]}\n",
        "rmsle_scorer = metrics.make_scorer(rmsle, greater_is_better = False)\n",
        "grid_ridge_m = GridSearchCV(ridge_m_, ridge_params_, scoring=rmsle_scorer, cv=5)\n",
        "\n",
        "y_train_log = np.log1p(y_train)\n",
        "grid_ridge_m.fit(x_train, y_train_log)\n",
        "preds = grid_ridge_m.predict(x_train)\n",
        "print(grid_ridge_m.best_params_)  #최적의 alpha값을 찾는다.\n",
        "print('RMSLE Value For Ridge Regression: ', rmsle(np.exp(y_train_log), np.exp(preds), False))\n",
        "\n",
        "fig, ax = plt.subplots()\n",
        "fig.set_size_inches(12,5)\n",
        "df = pd.DataFrame(grid_ridge_m.cv_results_)\n",
        "df['alpha'] = df['params'].apply(lambda x:x['alpha'])\n",
        "df['rmsle'] =df['mean_test_score'].apply(lambda x: -x)\n",
        "\n",
        "plt.xticks(rotation=30, ha='right')\n",
        "sns.pointplot(data=df, x='alpha', y='rmsle', ax=ax)"
      ],
      "execution_count": null,
      "outputs": [
        {
          "output_type": "stream",
          "text": [
            "{'alpha': 0.01, 'max_iter': 3000}\n",
            "RMSLE Value For Ridge Regression:  0.9803697902780834\n"
          ],
          "name": "stdout"
        },
        {
          "output_type": "execute_result",
          "data": {
            "text/plain": [
              "<matplotlib.axes._subplots.AxesSubplot at 0x7f26273b6a58>"
            ]
          },
          "metadata": {
            "tags": []
          },
          "execution_count": 67
        },
        {
          "output_type": "display_data",
          "data": {
            "image/png": "[encoded data removed]",
            "text/plain": [
              "<Figure size 864x360 with 1 Axes>"
            ]
          },
          "metadata": {
            "tags": []
          }
        }
      ]
    },
    {
      "cell_type": "code",
      "metadata": {
        "id": "fgH1cGHQ-UVN",
        "colab_type": "code",
        "colab": {
          "base_uri": "https://localhost:8080/",
          "height": 457
        },
        "outputId": "051ba650-9723-4e97-91f8-f8febfa0cfab"
      },
      "source": [
        "#라쏘 Regularization Model-Lasso\n",
        "#계수를 0에 가깝게 만들려고 하며 이를 L1규제라고 한다, 피처 선택이 자동으로 이루어진다, alpha값의 기본값은 1.0이다. \n",
        "lasso_m_ = Lasso()\n",
        "\n",
        "alpha = 1/np.array([0.1,1,2,3,4,10,30,100,200,300,400,800,900,1000])\n",
        "lasso_params_ = {'max_iter':[3000], 'alpha':alpha}\n",
        "\n",
        "grid_lasso_m = GridSearchCV(lasso_m_, lasso_params_, scoring = rmsle_scorer, cv=5)\n",
        "y_train_log = np.log1p(y_train)  #1을 더하고 로그를 씌워서 x_train과 y_train 값을 학습시킴.\n",
        "grid_lasso_m.fit(x_train, y_train_log)\n",
        "preds = grid_lasso_m.predict(x_train)\n",
        "print(grid_lasso_m.best_params_)  #예측한 최적의 값 프린트\n",
        "print('RMSLE Value For Lasso Regression: ', rmsle(np.exp(y_train_log), np.exp(preds),False))\n",
        "\n",
        "fig, ax = plt.subplots()\n",
        "fig.set_size_inches(12,5)\n",
        "df = pd.DataFrame(grid_lasso_m.cv_results_)\n",
        "df['alpha'] = df['params'].apply(lambda x:x['alpha'])\n",
        "df['rmsle'] = df['mean_test_score'].apply(lambda x:-x)\n",
        "\n",
        "plt.xticks(rotation=30, ha='right')\n",
        "sns.pointplot(data=df, x='alpha', y='rmsle', ax=ax)"
      ],
      "execution_count": null,
      "outputs": [
        {
          "output_type": "stream",
          "text": [
            "{'alpha': 0.00125, 'max_iter': 3000}\n",
            "RMSLE Value For Lasso Regression:  0.9803727821457648\n"
          ],
          "name": "stdout"
        },
        {
          "output_type": "execute_result",
          "data": {
            "text/plain": [
              "<matplotlib.axes._subplots.AxesSubplot at 0x7f262744b518>"
            ]
          },
          "metadata": {
            "tags": []
          },
          "execution_count": 71
        },
        {
          "output_type": "display_data",
          "data": {
            "image/png": "[encoded data removed]",
            "text/plain": [
              "<Figure size 864x360 with 1 Axes>"
            ]
          },
          "metadata": {
            "tags": []
          }
        }
      ]
    },
    {
      "cell_type": "code",
      "metadata": {
        "id": "XyFwmfERn1Kb",
        "colab_type": "code",
        "colab": {
          "base_uri": "https://localhost:8080/",
          "height": 36
        },
        "outputId": "4a87e6df-5dea-4e29-f139-cae742c3daed"
      },
      "source": [
        "#앙상블 모델-랜덤포레스트\n",
        "\n",
        "from sklearn.ensemble import RandomForestRegressor\n",
        "rfModel = RandomForestRegressor(n_estimators=100)\n",
        "\n",
        "y_train_log = np.log1p(y_train)\n",
        "rfModel.fit(x_train, y_train_log)\n",
        "\n",
        "preds = rfModel.predict(x_train)\n",
        "score = rmsle(np.exp(y_train_log), np.exp(preds), False)\n",
        "print('RMSLE Value For Random Forest: ', score)"
      ],
      "execution_count": null,
      "outputs": [
        {
          "output_type": "stream",
          "text": [
            "RMSLE Value For Random Forest:  0.10731264063752279\n"
          ],
          "name": "stdout"
        }
      ]
    },
    {
      "cell_type": "code",
      "metadata": {
        "id": "7Rcz0mDvunlY",
        "colab_type": "code",
        "colab": {
          "base_uri": "https://localhost:8080/",
          "height": 36
        },
        "outputId": "b5d7f91d-ab29-4cca-e3ae-0d35d19512cc"
      },
      "source": [
        "#앙상블 모델-그라디언트 부스트\n",
        "#여러개의 결정트리를 묶어 강력한 모델을 만듦, 메모리를 적게 사용하고 예측이 빠름\n",
        "\n",
        "from sklearn.ensemble import GradientBoostingRegressor\n",
        "gbm = GradientBoostingRegressor(n_estimators=4000, alpha=0.01); #n_estimator의 값이 너무 크면 오버피팅 될 수 있다.\n",
        "\n",
        "y_train_log = np.log1p(y_train)\n",
        "gbm.fit(x_train, y_train_log)\n",
        "\n",
        "preds = gbm.predict(x_train)\n",
        "score = rmsle(np.exp(y_train_log), np.exp(preds), False)\n",
        "print(\"RMSLE Value For Gradient Boost: \", score)  #랜덤포레스트 모델이 점수가 더 높게 나옴."
      ],
      "execution_count": null,
      "outputs": [
        {
          "output_type": "stream",
          "text": [
            "RMSLE Value For Gradient Boost:  0.21357403727249372\n"
          ],
          "name": "stdout"
        }
      ]
    },
    {
      "cell_type": "code",
      "metadata": {
        "id": "MoRfD5Gxvw1Y",
        "colab_type": "code",
        "colab": {
          "base_uri": "https://localhost:8080/",
          "height": 356
        },
        "outputId": "d2bf3b2e-438a-4457-d7ee-7e097d568ec6"
      },
      "source": [
        "predsTest = rfModel.predict(x_test)  #점수가 더 높은 rf 모델로 예측해보자.\n",
        "fig, (ax1, ax2) = plt.subplots(ncols=2)\n",
        "fig.set_size_inches(12,5)\n",
        "sns.distplot(y_train, ax=ax1, bins=50)  #train의 count값\n",
        "sns.distplot(np.exp(predsTest), ax=ax2, bins=50)  #test의 count값"
      ],
      "execution_count": null,
      "outputs": [
        {
          "output_type": "execute_result",
          "data": {
            "text/plain": [
              "<matplotlib.axes._subplots.AxesSubplot at 0x7f2624d53d30>"
            ]
          },
          "metadata": {
            "tags": []
          },
          "execution_count": 83
        },
        {
          "output_type": "display_data",
          "data": {
            "image/png": "[encoded data removed]",
            "text/plain": [
              "<Figure size 864x360 with 2 Axes>"
            ]
          },
          "metadata": {
            "tags": []
          }
        }
      ]
    },
    {
      "cell_type": "code",
      "metadata": {
        "id": "0Z9ypqFnv9ib",
        "colab_type": "code",
        "colab": {
          "base_uri": "https://localhost:8080/",
          "height": 221
        },
        "outputId": "1bd77218-8f9d-4ecf-9231-264d5b149276"
      },
      "source": [
        "#submit(랜덤포레스트)\n",
        "submission = pd.read_csv('/content/drive/My Drive/sampleSubmission.csv')\n",
        "submission\n",
        "submission['count'] = np.exp(predsTest)  #처음에 로그를 씌웠기 때문에 다시 지수함수 exp()를 씌워줌.\n",
        "\n",
        "print(submission.shape)\n",
        "submission.head()"
      ],
      "execution_count": null,
      "outputs": [
        {
          "output_type": "stream",
          "text": [
            "(6493, 2)\n"
          ],
          "name": "stdout"
        },
        {
          "output_type": "execute_result",
          "data": {
            "text/html": [
              "<div>\n",
              "<style scoped>\n",
              "    .dataframe tbody tr th:only-of-type {\n",
              "        vertical-align: middle;\n",
              "    }\n",
              "\n",
              "    .dataframe tbody tr th {\n",
              "        vertical-align: top;\n",
              "    }\n",
              "\n",
              "    .dataframe thead th {\n",
              "        text-align: right;\n",
              "    }\n",
              "</style>\n",
              "<table border=\"1\" class=\"dataframe\">\n",
              "  <thead>\n",
              "    <tr style=\"text-align: right;\">\n",
              "      <th></th>\n",
              "      <th>datetime</th>\n",
              "      <th>count</th>\n",
              "    </tr>\n",
              "  </thead>\n",
              "  <tbody>\n",
              "    <tr>\n",
              "      <th>0</th>\n",
              "      <td>2011-01-20 00:00:00</td>\n",
              "      <td>12.393945</td>\n",
              "    </tr>\n",
              "    <tr>\n",
              "      <th>1</th>\n",
              "      <td>2011-01-20 01:00:00</td>\n",
              "      <td>5.141637</td>\n",
              "    </tr>\n",
              "    <tr>\n",
              "      <th>2</th>\n",
              "      <td>2011-01-20 02:00:00</td>\n",
              "      <td>4.150963</td>\n",
              "    </tr>\n",
              "    <tr>\n",
              "      <th>3</th>\n",
              "      <td>2011-01-20 03:00:00</td>\n",
              "      <td>4.752610</td>\n",
              "    </tr>\n",
              "    <tr>\n",
              "      <th>4</th>\n",
              "      <td>2011-01-20 04:00:00</td>\n",
              "      <td>3.846727</td>\n",
              "    </tr>\n",
              "  </tbody>\n",
              "</table>\n",
              "</div>"
            ],
            "text/plain": [
              "              datetime      count\n",
              "0  2011-01-20 00:00:00  12.393945\n",
              "1  2011-01-20 01:00:00   5.141637\n",
              "2  2011-01-20 02:00:00   4.150963\n",
              "3  2011-01-20 03:00:00   4.752610\n",
              "4  2011-01-20 04:00:00   3.846727"
            ]
          },
          "metadata": {
            "tags": []
          },
          "execution_count": 84
        }
      ]
    },
    {
      "cell_type": "code",
      "metadata": {
        "id": "dq-MrKZaxIbL",
        "colab_type": "code",
        "colab": {}
      },
      "source": [
        "submission.to_csv('/content/drive/My Drive/Score_{0:.5f}_submission.csv'.format(score), index=False)"
      ],
      "execution_count": null,
      "outputs": []
    },
    {
      "cell_type": "code",
      "metadata": {
        "id": "qxxwmmkEyZqz",
        "colab_type": "code",
        "colab": {
          "base_uri": "https://localhost:8080/",
          "height": 36
        },
        "outputId": "8c7bb0d4-74b0-4685-b674-d86b6251dc53"
      },
      "source": [
        "131/3242  #rf모델을 사용하였을 때 상위 몇 프로안에 드는지 확인"
      ],
      "execution_count": null,
      "outputs": [
        {
          "output_type": "execute_result",
          "data": {
            "text/plain": [
              "0.04040715607649599"
            ]
          },
          "metadata": {
            "tags": []
          },
          "execution_count": 93
        }
      ]
    },
    {
      "cell_type": "code",
      "metadata": {
        "id": "FScfIInc0Yqd",
        "colab_type": "code",
        "colab": {
          "base_uri": "https://localhost:8080/",
          "height": 356
        },
        "outputId": "d3e445f9-8b14-49af-b196-bb055b4b0844"
      },
      "source": [
        "#submit(GradientBoosting)\n",
        "\n",
        "predsTest = gbm.predict(x_test)  \n",
        "fig, (ax1, ax2) = plt.subplots(ncols=2)\n",
        "fig.set_size_inches(12,5)\n",
        "sns.distplot(y_train, ax=ax1, bins=50)  #train의 count값\n",
        "sns.distplot(np.exp(predsTest), ax=ax2, bins=50)  #test의 count값"
      ],
      "execution_count": null,
      "outputs": [
        {
          "output_type": "execute_result",
          "data": {
            "text/plain": [
              "<matplotlib.axes._subplots.AxesSubplot at 0x7f2624b1a0b8>"
            ]
          },
          "metadata": {
            "tags": []
          },
          "execution_count": 90
        },
        {
          "output_type": "display_data",
          "data": {
            "image/png": "[encoded data removed]",
            "text/plain": [
              "<Figure size 864x360 with 2 Axes>"
            ]
          },
          "metadata": {
            "tags": []
          }
        }
      ]
    },
    {
      "cell_type": "code",
      "metadata": {
        "id": "rvfCqlY61LY0",
        "colab_type": "code",
        "colab": {
          "base_uri": "https://localhost:8080/",
          "height": 221
        },
        "outputId": "ee8df931-8255-4d2e-a413-0726eaac6e3c"
      },
      "source": [
        "submission = pd.read_csv('/content/drive/My Drive/sampleSubmission.csv')\n",
        "submission\n",
        "submission['count'] = np.exp(predsTest)  #처음에 로그를 씌웠기 때문에 다시 지수함수 exp()를 씌워줌.\n",
        "\n",
        "print(submission.shape)\n",
        "submission.head()"
      ],
      "execution_count": null,
      "outputs": [
        {
          "output_type": "stream",
          "text": [
            "(6493, 2)\n"
          ],
          "name": "stdout"
        },
        {
          "output_type": "execute_result",
          "data": {
            "text/html": [
              "<div>\n",
              "<style scoped>\n",
              "    .dataframe tbody tr th:only-of-type {\n",
              "        vertical-align: middle;\n",
              "    }\n",
              "\n",
              "    .dataframe tbody tr th {\n",
              "        vertical-align: top;\n",
              "    }\n",
              "\n",
              "    .dataframe thead th {\n",
              "        text-align: right;\n",
              "    }\n",
              "</style>\n",
              "<table border=\"1\" class=\"dataframe\">\n",
              "  <thead>\n",
              "    <tr style=\"text-align: right;\">\n",
              "      <th></th>\n",
              "      <th>datetime</th>\n",
              "      <th>count</th>\n",
              "    </tr>\n",
              "  </thead>\n",
              "  <tbody>\n",
              "    <tr>\n",
              "      <th>0</th>\n",
              "      <td>2011-01-20 00:00:00</td>\n",
              "      <td>11.227543</td>\n",
              "    </tr>\n",
              "    <tr>\n",
              "      <th>1</th>\n",
              "      <td>2011-01-20 01:00:00</td>\n",
              "      <td>6.296610</td>\n",
              "    </tr>\n",
              "    <tr>\n",
              "      <th>2</th>\n",
              "      <td>2011-01-20 02:00:00</td>\n",
              "      <td>4.259238</td>\n",
              "    </tr>\n",
              "    <tr>\n",
              "      <th>3</th>\n",
              "      <td>2011-01-20 03:00:00</td>\n",
              "      <td>2.666615</td>\n",
              "    </tr>\n",
              "    <tr>\n",
              "      <th>4</th>\n",
              "      <td>2011-01-20 04:00:00</td>\n",
              "      <td>2.295918</td>\n",
              "    </tr>\n",
              "  </tbody>\n",
              "</table>\n",
              "</div>"
            ],
            "text/plain": [
              "              datetime      count\n",
              "0  2011-01-20 00:00:00  11.227543\n",
              "1  2011-01-20 01:00:00   6.296610\n",
              "2  2011-01-20 02:00:00   4.259238\n",
              "3  2011-01-20 03:00:00   2.666615\n",
              "4  2011-01-20 04:00:00   2.295918"
            ]
          },
          "metadata": {
            "tags": []
          },
          "execution_count": 91
        }
      ]
    },
    {
      "cell_type": "code",
      "metadata": {
        "id": "dudDlbCG1iy_",
        "colab_type": "code",
        "colab": {}
      },
      "source": [
        "submission.to_csv('/content/drive/My Drive/Score_{0:.5f}_submission.csv'.format(score), index=False)"
      ],
      "execution_count": null,
      "outputs": []
    },
    {
      "cell_type": "code",
      "metadata": {
        "id": "CsAjXFTw1zQy",
        "colab_type": "code",
        "colab": {
          "base_uri": "https://localhost:8080/",
          "height": 36
        },
        "outputId": "1166839c-4397-40f2-8346-d8ad1d2c246d"
      },
      "source": [
        "149/3242  #GradientBoosting 모델로 예측하였을 때 상위 몇 프로안에 드는지 확인"
      ],
      "execution_count": null,
      "outputs": [
        {
          "output_type": "execute_result",
          "data": {
            "text/plain": [
              "0.0459592843923504"
            ]
          },
          "metadata": {
            "tags": []
          },
          "execution_count": 94
        }
      ]
    }
  ]
}